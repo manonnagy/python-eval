{
 "cells": [
  {
   "cell_type": "code",
   "execution_count": 13,
   "metadata": {},
   "outputs": [
    {
     "ename": "SyntaxError",
     "evalue": "invalid syntax (<ipython-input-13-1ef00631cec5>, line 1)",
     "output_type": "error",
     "traceback": [
      "\u001b[1;36m  File \u001b[1;32m\"<ipython-input-13-1ef00631cec5>\"\u001b[1;36m, line \u001b[1;32m1\u001b[0m\n\u001b[1;33m    Pyton ruler.py DataSet.txt\u001b[0m\n\u001b[1;37m              ^\u001b[0m\n\u001b[1;31mSyntaxError\u001b[0m\u001b[1;31m:\u001b[0m invalid syntax\n"
     ]
    }
   ],
   "source": [
    "import sys\n",
    "from ruler import Ruler #on importe notre classe\n",
    "\n",
    "DataSet = sys.argv[1] #\n",
    "fichier1 = open(DataSet, \"r\") #on met en deuxième le nom du fichier à lire\n",
    "M = [] \n",
    "\n",
    "for l in fichier1:\n",
    "    L = l.replace('\\n', \"\") #on enlève les \\n dans chaque string\n",
    "\n",
    "    if L != \"\": \n",
    "        M.append(L)\n",
    "\n",
    "i = 0\n",
    "\n",
    "while i < len(L)-1: #on s'arrête à l'avant-avant-dernier\n",
    "    ruler = Ruler(L[i], L[i+1]) #on applique la classe\n",
    "    ruler.calculate()\n",
    "    top, bottom = ruler.report()\n",
    "    print(f'''-----------------example #{i//2} distance = {ruler.distance}\n",
    "    {top}\n",
    "    {bottom}''')\n",
    "    i += 2\n",
    "    \n"
   ]
  }
 ],
 "metadata": {
  "kernelspec": {
   "display_name": "Python 3",
   "language": "python",
   "name": "python3"
  },
  "language_info": {
   "codemirror_mode": {
    "name": "ipython",
    "version": 3
   },
   "file_extension": ".py",
   "mimetype": "text/x-python",
   "name": "python",
   "nbconvert_exporter": "python",
   "pygments_lexer": "ipython3",
   "version": "3.7.3"
  }
 },
 "nbformat": 4,
 "nbformat_minor": 2
}
