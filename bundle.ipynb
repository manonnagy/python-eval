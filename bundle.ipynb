{
 "cells": [
  {
   "cell_type": "code",
   "execution_count": 5,
   "metadata": {},
   "outputs": [
    {
     "ename": "SyntaxError",
     "evalue": "unexpected character after line continuation character (<ipython-input-5-0050338ca1c4>, line 3)",
     "output_type": "error",
     "traceback": [
      "\u001b[1;36m  File \u001b[1;32m\"<ipython-input-5-0050338ca1c4>\"\u001b[1;36m, line \u001b[1;32m3\u001b[0m\n\u001b[1;33m    cd \\Users\\nagym\\OneDrive\\Documents\\python-eval\u001b[0m\n\u001b[1;37m                                                  ^\u001b[0m\n\u001b[1;31mSyntaxError\u001b[0m\u001b[1;31m:\u001b[0m unexpected character after line continuation character\n"
     ]
    }
   ],
   "source": [
    "import sys\n",
    "from ruler import Ruler #on importe notre classe\n",
    "\n",
    "DataSet = sys.argv[1] #\n",
    "fichier1 = open(DataSet, \"r\") #on met en deuxième le nom du fichier à lire\n",
    "M = [] \n",
    "\n",
    "for l in fichier1:\n",
    "    L = l.replace('\\n', \"\") #on enlève les \\n dans chaque string\n",
    "\n",
    "    if L != \"\": \n",
    "        M.append(L)\n",
    "\n",
    "i = 0\n",
    "\n",
    "while i < len(L)-1: #on s'arrête à l'avant-avant-dernier\n",
    "    ruler = Ruler(L[i], L[i+1]) #on applique la classe\n",
    "    ruler.calculate()\n",
    "    top, bottom = ruler.report()\n",
    "    print(f'''-----------------example #{i//2} distance = {ruler.distance}\n",
    "    {top}\n",
    "    {bottom}''')\n",
    "    i += 2"
   ]
  }
 ],
 "metadata": {
  "kernelspec": {
   "display_name": "Python 3",
   "language": "python",
   "name": "python3"
  },
  "language_info": {
   "codemirror_mode": {
    "name": "ipython",
    "version": 3
   },
   "file_extension": ".py",
   "mimetype": "text/x-python",
   "name": "python",
   "nbconvert_exporter": "python",
   "pygments_lexer": "ipython3",
   "version": "3.7.3"
  }
 },
 "nbformat": 4,
 "nbformat_minor": 2
}
