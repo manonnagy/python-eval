{
 "cells": [
  {
   "cell_type": "code",
   "execution_count": 7,
   "metadata": {},
   "outputs": [
    {
     "ename": "ModuleNotFoundError",
     "evalue": "No module named 'needleman_wunsch'",
     "output_type": "error",
     "traceback": [
      "\u001b[1;31m---------------------------------------------------------------------------\u001b[0m",
      "\u001b[1;31mModuleNotFoundError\u001b[0m                       Traceback (most recent call last)",
      "\u001b[1;32m<ipython-input-7-b3fce92fcd7e>\u001b[0m in \u001b[0;36m<module>\u001b[1;34m\u001b[0m\n\u001b[0;32m      1\u001b[0m \u001b[1;32mimport\u001b[0m \u001b[0msys\u001b[0m\u001b[1;33m\u001b[0m\u001b[1;33m\u001b[0m\u001b[0m\n\u001b[1;32m----> 2\u001b[1;33m \u001b[1;32mfrom\u001b[0m \u001b[0mneedleman_wunsch\u001b[0m \u001b[1;32mimport\u001b[0m \u001b[0mRuler\u001b[0m \u001b[1;31m#on importe notre classe\u001b[0m\u001b[1;33m\u001b[0m\u001b[1;33m\u001b[0m\u001b[0m\n\u001b[0m\u001b[0;32m      3\u001b[0m \u001b[1;33m\u001b[0m\u001b[0m\n\u001b[0;32m      4\u001b[0m \u001b[0mfile_name\u001b[0m \u001b[1;33m=\u001b[0m \u001b[0msys\u001b[0m\u001b[1;33m.\u001b[0m\u001b[0margv\u001b[0m\u001b[1;33m[\u001b[0m\u001b[1;36m1\u001b[0m\u001b[1;33m]\u001b[0m \u001b[1;31m#\u001b[0m\u001b[1;33m\u001b[0m\u001b[1;33m\u001b[0m\u001b[0m\n\u001b[0;32m      5\u001b[0m \u001b[0mfichier1\u001b[0m \u001b[1;33m=\u001b[0m \u001b[0mopen\u001b[0m\u001b[1;33m(\u001b[0m\u001b[0mfile_name\u001b[0m\u001b[1;33m,\u001b[0m \u001b[1;34m\"r\"\u001b[0m\u001b[1;33m)\u001b[0m \u001b[1;31m#on met en deuxième le nom du fichier à lire\u001b[0m\u001b[1;33m\u001b[0m\u001b[1;33m\u001b[0m\u001b[0m\n",
      "\u001b[1;31mModuleNotFoundError\u001b[0m: No module named 'needleman_wunsch'"
     ]
    }
   ],
   "source": [
    "import sys\n",
    "from needleman_wunsch import Ruler #on importe notre classe\n",
    "\n",
    "file_name = sys.argv[1] #\n",
    "fichier1 = open(file_name, \"r\") #on met en deuxième le nom du fichier à lire\n",
    "M = [] \n",
    "\n",
    "for l in fichier1:\n",
    "    L = l.replace('\\n', \"\") #on enlève les \\n dans chaque string\n",
    "\n",
    "    if L != \"\": \n",
    "        M.append(L)\n",
    "\n",
    "i = 0\n",
    "\n",
    "while i < len(L)-1: #on s'arrête à l'avant-avant-dernier\n",
    "    ruler = Ruler(L[i], L[i+1]) #on applique la classe\n",
    "    ruler.calculate()\n",
    "    top, bottom = ruler.report()\n",
    "    print(f'''-----------------example #{i//2} distance = {ruler.distance}\n",
    "    {top}\n",
    "    {bottom}''')\n",
    "    i += 2"
   ]
  }
 ],
 "metadata": {
  "kernelspec": {
   "display_name": "Python 3",
   "language": "python",
   "name": "python3"
  },
  "language_info": {
   "codemirror_mode": {
    "name": "ipython",
    "version": 3
   },
   "file_extension": ".py",
   "mimetype": "text/x-python",
   "name": "python",
   "nbconvert_exporter": "python",
   "pygments_lexer": "ipython3",
   "version": "3.7.3"
  }
 },
 "nbformat": 4,
 "nbformat_minor": 2
}
