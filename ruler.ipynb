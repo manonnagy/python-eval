{
 "cells": [
  {
   "cell_type": "markdown",
   "metadata": {},
   "source": [
    "### Needleman Wunsch"
   ]
  },
  {
   "cell_type": "code",
   "execution_count": 2,
   "metadata": {},
   "outputs": [],
   "source": [
    "from colorama import init, Fore, Style\n",
    "import numpy as np\n",
    "from itertools import product\n",
    "import string"
   ]
  },
  {
   "cell_type": "code",
   "execution_count": 19,
   "metadata": {},
   "outputs": [],
   "source": [
    "init(convert=True) #on met en marche le module colorama\n",
    "\n",
    "class Ruler:\n",
    "    def choix_mat(self, S): #on définit les matrices dans le cas où toutes les substitutions ont le même coût\n",
    "        if S == \"\":\n",
    "            M = np.zeros(shape=(26, 26))\n",
    "            for i, j in product(range(25), range(25)):\n",
    "                if i != j:\n",
    "                    M[i][j] = 1\n",
    "            return M\n",
    "        else: # si on veut définir une autre matrice pour les coûts\n",
    "            return S\n",
    "\n",
    "    def __init__(self, A, B, d=1, S=\"\", remplacement_cost=1, insert_cost=1):\n",
    "        self.A = A #chaîne 1\n",
    "        self.B = B #chaîne 2\n",
    "        self.A_mod = None #chaîne 1 qu'on aligne avec la 2\n",
    "        self.B_mod = None #chaîne 2 modifée pour être alignée avec la 2\n",
    "        self.n = len(self.A)\n",
    "        self.m = len(self.B)\n",
    "        self.distance = None #distance entre les deux chaînes de caractères\n",
    "        self.d = d #coût d'un non alignement\n",
    "        self.remplacement_cost = remplacement_cost  #on définit la valeur de la distance liée à un remplacement\n",
    "        self.insert_cost = insert_cost   #on définit la distance liée à un saut\n",
    "        self.S=self.choix_mat(S) #matrice des coût de substitution entre les lettres\n",
    "\n",
    "    def red_text(self, text):\n",
    "        return f\"{Fore.RED}{text}{Style.RESET_ALL}\" #fonction pour mettre une chaîne de caractère en rouge\n",
    "\n",
    "\n",
    "    def cout_substitution(self, x, y): # on calcule le coût de substitution de 'x' et 'y'\n",
    "        M = list(string.ascii_lowercase)  # liste où on retrouve les lettres de l'alphabet\n",
    "        m_1 = x.lower()\n",
    "        m_2 = y.lower()\n",
    "        i = M.index(m_1)\n",
    "        j = M.index(m_2)\n",
    "        return self.S[i][j]\n",
    "\n",
    "\n",
    "\n",
    "    def compute(self): # on va calculer la distance entre les deux chaînes de caractères\n",
    "       \n",
    "        Score = np.empty(shape=(self.n + 1, self.m + 1))\n",
    "        Chemin = np.zeros(shape=(self.n + 1, self.m + 1)) #la matrice qui note au fur et à mesure le chemin à remonter\n",
    "\n",
    "        Score[0][0] = 0 #le cout en haut à gauche est nul\n",
    "        Chemin[0][0] = 3 #dans la matrice Chemin, on associe la valeur 3 à la case en haut à gauche (l'arrêt)\n",
    "        #on associe la valeur 0 quand on vient de la case en diagonale juste avant\n",
    "        #on associe la valeur 1 quand on vient de la case juste au dessus\n",
    "        #on associe la valeur 2 quand on vient de la case à gauche\n",
    "\n",
    "        for i in range(1, self.n + 1): #coûts et déplacements associés sur la première ligne\n",
    "            Score[i][0] = (i*self.d)\n",
    "            Chemin[i][0] = 2\n",
    "\n",
    "        for j in range(1, self.m + 1): #coûts et déplacements associés sur la première colonne\n",
    "            Score[0][j] = (j*self.d)\n",
    "            Chemin[0][j] = 1\n",
    "\n",
    "        for (i, j) in product(range(1, self.n+1), range(1, self.m+1)): #on calcule les coûts pour toutes les cases\n",
    "            cout = [Score[i-1][j-1] + self.cout_substitution(self.A[i-1], self.B[j-1]),\n",
    "                    Score[i][j-1] + self.d,\n",
    "                    Score[i-1][j] + self.d]\n",
    "            m = min(cout)\n",
    "            Score[i][j] = min(cout)\n",
    "            Chemin[i][j] = cout.index(m)\n",
    "\n",
    "\n",
    "        x, y = (self.n, self.m) #ici, on part d'en bas à droit de Chemin, on remonte les cases jusqu'à la case de départ\n",
    "        #avec le chemin optimal\n",
    "\n",
    "        etat = Chemin[x][y]\n",
    "        n_1 = []\n",
    "        n_2 = []\n",
    "        self.distance = 0\n",
    "        while etat != 3: #le critère d'arrêt en haut à gauche\n",
    "\n",
    "            if etat == 0:#on test les valeurs pour savoir si on doit remonter en diagonale\n",
    "                if self.B[y-1] != self.A[x-1]:\n",
    "                    self.distance += self.remplacement_cost\n",
    "                    n_1 = [self.red_text(self.A[x-1])] + n_1 #on met un \"=\" en rouge quand on met un gap\n",
    "                    n_2 = [self.red_text(self.B[y-1])] + n_2\n",
    "                else:\n",
    "                    n_1 = [self.A[x-1]] + n_1\n",
    "                    n_2 = [self.B[y-1]] + n_2\n",
    "                x, y = (x-1, y-1)\n",
    "\n",
    "            elif etat == 1:#on test les valeurs pour savoir si on doit remonter à la verticale\n",
    "                n_1 = [self.red_text(\"=\")] + n_1\n",
    "                n_2 = [self.B[y-1]] + n_2\n",
    "                x, y = (x, y-1)\n",
    "                self.distance += self.insert_cost\n",
    "            else: #on test les valeurs pour savoir si on doit remonter à l'horizontale\n",
    "                n_1 = [self.A[x-1]] + n_1\n",
    "                n_2 = [self.red_text(\"=\")] + n_2\n",
    "                x, y = (x-1, y)\n",
    "                self.distance += self.insert_cost\n",
    "            etat = Chemin[x][y]\n",
    "\n",
    "\n",
    "        a= \"\".join(n_1)\n",
    "        b= \"\".join(n_2)\n",
    "        return (a,b)\n",
    "    def report(self):\n",
    "        a,b = Ruler.compute(self)\n",
    "        print(a,b) #fonction pour retourner les 2 chaînes modifiées"
   ]
  },
  {
   "cell_type": "code",
   "execution_count": 42,
   "metadata": {},
   "outputs": [
    {
     "name": "stdout",
     "output_type": "stream",
     "text": [
      "abd=\n",
      "abde\n"
     ]
    }
   ],
   "source": [
    "r= Ruler(\"abde\", \"abd\")\n",
    "a= r.compute()[0]\n",
    "b= r.compute()[1]\n",
    "c= \"\".join(a)\n",
    "d= \"\".join(b)\n",
    "print(d)\n",
    "print(c)\n",
    "\n",
    "#Commentaire : malheureusement, je n'arrive pas sur jupyter à mettre en rouge le texte.\n",
    "#En effet, j'ai fait un test sur spyder pour voir si la fonction red_text et la commande \"\".join() permettait d'obtenir\n",
    "#le texte en rouge et cela a marché. Malheureusement, les mêmes commandes sur jupyter ne renvoie pas mon texte en rouge."
   ]
  },
  {
   "cell_type": "code",
   "execution_count": 45,
   "metadata": {},
   "outputs": [
    {
     "name": "stdout",
     "output_type": "stream",
     "text": [
      "a\n"
     ]
    }
   ],
   "source": [
    "def red_text(text):\n",
    "        return f\"{Fore.RED}{text}{Style.RESET_ALL}\" #fonction pour mettre une chaîne de caractère en rouge\n",
    "def test(t):\n",
    "    a=red_text(t)\n",
    "    b= \"\".join(a)\n",
    "    print(b)\n",
    "test(\"a\")\n",
    "#Ne renvoie pas a en rouge alors que sur pyzo cela renvoie en rouge"
   ]
  }
 ],
 "metadata": {
  "kernelspec": {
   "display_name": "Python 3",
   "language": "python",
   "name": "python3"
  },
  "language_info": {
   "codemirror_mode": {
    "name": "ipython",
    "version": 3
   },
   "file_extension": ".py",
   "mimetype": "text/x-python",
   "name": "python",
   "nbconvert_exporter": "python",
   "pygments_lexer": "ipython3",
   "version": "3.7.3"
  }
 },
 "nbformat": 4,
 "nbformat_minor": 2
}
